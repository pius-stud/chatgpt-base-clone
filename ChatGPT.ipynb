{
  "nbformat": 4,
  "nbformat_minor": 0,
  "metadata": {
    "colab": {
      "provenance": [],
      "authorship_tag": "ABX9TyO1YH9lJKyM1ALF11wBDceb",
      "include_colab_link": true
    },
    "kernelspec": {
      "name": "python3",
      "display_name": "Python 3"
    },
    "language_info": {
      "name": "python"
    }
  },
  "cells": [
    {
      "cell_type": "markdown",
      "metadata": {
        "id": "view-in-github",
        "colab_type": "text"
      },
      "source": [
        "<a href=\"https://colab.research.google.com/github/pius-stud/chatgpt-base-clone/blob/main/ChatGPT.ipynb\" target=\"_parent\"><img src=\"https://colab.research.google.com/assets/colab-badge.svg\" alt=\"Open In Colab\"/></a>"
      ]
    },
    {
      "cell_type": "code",
      "source": [
        "!pip install openai"
      ],
      "metadata": {
        "id": "vFCrqM5byTyo"
      },
      "execution_count": null,
      "outputs": []
    },
    {
      "cell_type": "code",
      "source": [
        "import openai\n",
        "\n",
        "# Key not free\n",
        "openai.api_key = \"sk-...nPW\""
      ],
      "metadata": {
        "id": "2Eh6jjcgmPqm"
      },
      "execution_count": null,
      "outputs": []
    },
    {
      "cell_type": "code",
      "source": [
        "# Give the AI instructions on how to act/answer\n",
        "chat_history = [{\"role\": \"system\", \"content\": \"You are a chatbot.\"}]\n",
        "\n",
        "response = openai.ChatCompletion.create(model = \"gpt-3.5-turbo\", messages = chat_history)\n",
        "\n",
        "# Starting the loop to have a continuos conversation\n",
        "while True:\n",
        "  user = input()\n",
        "  if user.upper() == \"STOP\":\n",
        "    break\n",
        "\n",
        "  conversation = {\"role\" : \"user\", \"content\": user}\n",
        "  chat_history.append(conversation)\n",
        "\n",
        "  response = openai.ChatCompletion.create(\n",
        "      model=\"gpt-3.5-turbo\",\n",
        "      messages = chat_history)\n",
        "\n",
        "  # Print the answer of ChatGPT\n",
        "  print(response[\"choices\"][0][\"message\"][\"content\"])"
      ],
      "metadata": {
        "id": "-AbG3ZLEyYH1"
      },
      "execution_count": null,
      "outputs": []
    }
  ]
}